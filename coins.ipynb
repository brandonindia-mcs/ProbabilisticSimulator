{
 "cells": [
  {
   "cell_type": "code",
   "execution_count": 10,
   "metadata": {},
   "outputs": [],
   "source": [
    "from SimObject import SimObject\n",
    "from CoinSimulator import CoinSimulator\n",
    "from CoinSimulator import Coin\n",
    "from CoinSimulator import CoinFlipSimulator\n",
    "import sys\n",
    "import logging\n",
    "logging.basicConfig(filename=f\"{__name__}.log\", level=logging.ERROR, format='%(asctime)s - %(levelname)s - %(message)s')\n",
    "def sim_test(test_id=\"TEST\"):\n",
    "    logging.info(f\"\\n### coins ### {test_id} ######################\")\n",
    "def is_positive_int(value):\n",
    "    try:\n",
    "        num = int(value)\n",
    "        return num > 0\n",
    "    except ValueError:\n",
    "        return False\n",
    "\n",
    "def coin_simulator(number_of_bits=1, number_of_tests=10):\n",
    "    sim_test(\"COIN SIMULATOR\")\n",
    "    results = CoinSimulator(number_of_bits).simulate(number_of_tests)\n",
    "    logging.debug(f\"Results: {results}\")\n",
    "    return results\n",
    "\n",
    "def coin_flip_simulator(number_of_coins=1, number_of_tests=10):\n",
    "    sim_test(\"COIN FLIP SIMULATOR\")\n",
    "    sim = CoinFlipSimulator()\n",
    "    results = {}\n",
    "    for i in range(0, number_of_coins):\n",
    "        c = Coin(\"HEADS\",f\"coin-{i}\")\n",
    "        for state, state_object in c.get_states().items():\n",
    "            sim.add_event(state_object[SimObject.STATE], state_object[SimObject.PROBABILITY])\n",
    "        results[c.NAME] = sim.simulate(number_of_tests)\n",
    "    logging.debug(f\"Results: {results}\")\n",
    "    return results\n",
    "\n",
    "if __name__ == \"__main__\":\n",
    "    sim_test(\"ARGUMENTS\")\n",
    "    logging.info(f\"Number of arguments: {len(sys.argv)}\")\n",
    "    logging.info(f\"Argument List: {sys.argv}\")\n",
    "\n",
    "    try:\n",
    "        logging.debug(\"sys.argv[1]:\"+sys.argv[1])\n",
    "        logging.debug(\"sys.argv[2]:\"+sys.argv[2])\n",
    "        NUMBER_OF_OBJECTS = int(sys.argv[1])\n",
    "        NUMBER_OF_SIMULATIONS = int(sys.argv[2])\n",
    "    except:\n",
    "        NUMBER_OF_OBJECTS = 3\n",
    "        NUMBER_OF_SIMULATIONS = 10\n",
    "    logging.info(f\"NUMBER_OF_OBJECTS: {NUMBER_OF_OBJECTS}\")\n",
    "    logging.info(f\"NUMBER_OF_SIMULATIONS: {NUMBER_OF_SIMULATIONS}\")\n",
    "\n",
    "\n"
   ]
  },
  {
   "cell_type": "code",
   "execution_count": 11,
   "metadata": {},
   "outputs": [
    {
     "name": "stdout",
     "output_type": "stream",
     "text": [
      "state: coin-0-HEADS result: 5\n",
      "state: coin-0-TAILS result: 5\n",
      "state: coin-1-HEADS result: 4\n",
      "state: coin-1-TAILS result: 6\n",
      "state: coin-2-HEADS result: 5\n",
      "state: coin-2-TAILS result: 5\n"
     ]
    }
   ],
   "source": [
    "for state, result in coin_simulator(NUMBER_OF_OBJECTS,NUMBER_OF_SIMULATIONS).items():\n",
    "    print(f\"state: {state} result: {result}\")"
   ]
  },
  {
   "cell_type": "code",
   "execution_count": 18,
   "metadata": {},
   "outputs": [
    {
     "name": "stdout",
     "output_type": "stream",
     "text": [
      "coin: coin-0\n",
      "\theads:502\n",
      "\ttails:498\n",
      "coin: coin-1\n",
      "\theads:483\n",
      "\ttails:517\n",
      "coin: coin-2\n",
      "\theads:513\n",
      "\ttails:487\n"
     ]
    }
   ],
   "source": [
    "NUMBER_OF_OBJECTS = 3\n",
    "NUMBER_OF_SIMULATIONS = 1000\n",
    "for coin, result in coin_flip_simulator(NUMBER_OF_OBJECTS,NUMBER_OF_SIMULATIONS).items():\n",
    "    print(f\"coin: {coin}\")\n",
    "    for k,v in result.items():\n",
    "        print(f\"\\t{k}:{v}\")\n",
    "\n"
   ]
  },
  {
   "cell_type": "code",
   "execution_count": 78,
   "metadata": {},
   "outputs": [
    {
     "name": "stdout",
     "output_type": "stream",
     "text": [
      "object-0 ran 100 of trials over 8 states\n",
      "\tstate-0-10.0%\t9.0%\n",
      "\tstate-1-20.0%\t18.0%\n",
      "\tstate-2-15.0%\t19.0%\n",
      "\tstate-3-12.0%\t14.0%\n",
      "\tstate-4-13.0%\t11.0%\n",
      "\tstate-5-2.0%\t6.0%\n",
      "\tstate-6-6.0%\t4.0%\n",
      "\tstate-7-22.0%\t19.0%\n"
     ]
    }
   ],
   "source": [
    "from ProbabilisticSimulator import ProbabilisticSimulator\n",
    "\n",
    "def simulate_object_probability(NUMBER_OF_OBJECTS=1,NUMBER_OF_SIMULATIONS=100):\n",
    "    sim = ProbabilisticSimulator()\n",
    "    results = {}\n",
    "    for i in range(0, NUMBER_OF_OBJECTS):\n",
    "        o = [\n",
    "            {\"probability\":.10},\n",
    "            {\"probability\":.20},\n",
    "            {\"probability\":.15},\n",
    "            {\"probability\":.12},\n",
    "            {\"probability\":.13},\n",
    "            {\"probability\":.02},\n",
    "            {\"probability\":.06},\n",
    "            {\"probability\":.22}]\n",
    "        \n",
    "        for ndx, state_object in enumerate(o):\n",
    "            probability = state_object[\"probability\"]\n",
    "            sim.add_event(f\"state-{ndx}-{100*probability}%\", probability)\n",
    "        results[f\"object-{i}\"] = sim.simulate(NUMBER_OF_SIMULATIONS)\n",
    "    for item,result in results.items():\n",
    "        print(f\"{item} ran {NUMBER_OF_SIMULATIONS} of trials over {len(o)} states\")\n",
    "        for k,v in result.items():\n",
    "            v = f\"{round(100*(v/NUMBER_OF_SIMULATIONS), len(str(NUMBER_OF_SIMULATIONS))-1)}%\"\n",
    "            print(f\"\\t{k}\\t{v}\")\n",
    "\n",
    "NUMBER_OF_OBJECTS = 5\n",
    "NUMBER_OF_SIMULATIONS = 1000000\n",
    "simulate_object_probability()\n"
   ]
  }
 ],
 "metadata": {
  "kernelspec": {
   "display_name": "Python 3",
   "language": "python",
   "name": "python3"
  },
  "language_info": {
   "codemirror_mode": {
    "name": "ipython",
    "version": 3
   },
   "file_extension": ".py",
   "mimetype": "text/x-python",
   "name": "python",
   "nbconvert_exporter": "python",
   "pygments_lexer": "ipython3",
   "version": "3.10.12"
  }
 },
 "nbformat": 4,
 "nbformat_minor": 2
}
