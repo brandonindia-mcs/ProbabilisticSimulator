{
 "cells": [
  {
   "cell_type": "markdown",
   "metadata": {},
   "source": [
    "WORKS BEST WITH LOCAL PYTHON OR JUPYTER SERVER RUNNING IN . (dot)\n",
    "\n",
    "    jupyter notebook --no-browser\n"
   ]
  },
  {
   "cell_type": "code",
   "execution_count": 29,
   "metadata": {
    "notebookRunGroups": {
     "groupValue": "1"
    }
   },
   "outputs": [
    {
     "name": "stdout",
     "output_type": "stream",
     "text": [
      "__main__\n"
     ]
    }
   ],
   "source": [
    "from SimObject import SimObject\n",
    "from CoinSimulator import CoinSimulator\n",
    "from CoinSimulator import CoinFlipSimulator\n",
    "from CoinSimulator import Coin\n",
    "import sys\n",
    "import logging\n",
    "\n",
    "### SET LOG LEVEL\n",
    "LOGLEVEL=logging.ERROR\n",
    "### FORCE LOGGING FOR LOCAL TESTING\n",
    "FORCE=True\n",
    "\n",
    "logging.basicConfig(filename=f\"{__name__}.log\", level=LOGLEVEL, format='%(asctime)s - %(levelname)s - %(message)s', force=FORCE)\n",
    "def sim_test(test_id=\"TEST\"):\n",
    "    logging.info(f\"\\n### coins ### {test_id} ######################\")\n",
    "def is_positive_int(value):\n",
    "    try:\n",
    "        num = int(value)\n",
    "        return num > 0\n",
    "    except ValueError:\n",
    "        return False\n",
    "\n",
    "\n",
    "\n",
    "print (__name__)\n",
    "if __name__ == \"__main__\":\n",
    "    sim_test(\"ARGUMENTS\")\n",
    "    logging.info(f\"Number of arguments: {len(sys.argv)}\")\n",
    "    logging.info(f\"Argument List: {sys.argv}\")\n",
    "\n",
    "    try:\n",
    "        logging.debug(\"sys.argv[1]:\"+sys.argv[1])\n",
    "        logging.debug(\"sys.argv[2]:\"+sys.argv[2])\n",
    "        NUMBER_OF_OBJECTS = int(sys.argv[1])\n",
    "        NUMBER_OF_SIMULATIONS = int(sys.argv[2])\n",
    "    except:\n",
    "        NUMBER_OF_OBJECTS = 3\n",
    "        NUMBER_OF_SIMULATIONS = 10\n",
    "    logging.info(f\"NUMBER_OF_OBJECTS: {NUMBER_OF_OBJECTS}\")\n",
    "    logging.info(f\"NUMBER_OF_SIMULATIONS: {NUMBER_OF_SIMULATIONS}\")\n",
    "\n",
    "\n"
   ]
  },
  {
   "cell_type": "code",
   "execution_count": 32,
   "metadata": {
    "notebookRunGroups": {
     "groupValue": "2"
    }
   },
   "outputs": [
    {
     "name": "stdout",
     "output_type": "stream",
     "text": [
      "coin_simulator(3,10):\n",
      "state: coin-0-HEADS result: 5\n",
      "state: coin-0-TAILS result: 5\n",
      "state: coin-1-HEADS result: 5\n",
      "state: coin-1-TAILS result: 5\n",
      "state: coin-2-HEADS result: 4\n",
      "state: coin-2-TAILS result: 6\n"
     ]
    }
   ],
   "source": [
    "def coin_simulator(number_of_bits=1, number_of_tests=10):\n",
    "    sim_test(\"COIN SIMULATOR\")\n",
    "    print(f\"coin_simulator({number_of_bits},{number_of_tests}):\")\n",
    "    results = CoinSimulator(number_of_bits).simulate(number_of_tests)\n",
    "    logging.debug(f\"Results: {results}\")\n",
    "    return results\n",
    "\n",
    "for state, result in coin_simulator(NUMBER_OF_OBJECTS,NUMBER_OF_SIMULATIONS).items():\n",
    "    print(f\"state: {state} result: {result}\")"
   ]
  },
  {
   "cell_type": "code",
   "execution_count": 31,
   "metadata": {
    "notebookRunGroups": {
     "groupValue": "2"
    }
   },
   "outputs": [
    {
     "name": "stdout",
     "output_type": "stream",
     "text": [
      "coin_flip_simulator(3,1000):\n",
      "coin: coin-0\n",
      "\theads:516\n",
      "\ttails:484\n",
      "coin: coin-1\n",
      "\theads:493\n",
      "\ttails:507\n",
      "coin: coin-2\n",
      "\theads:505\n",
      "\ttails:495\n"
     ]
    }
   ],
   "source": [
    "def coin_flip_simulator(number_of_coins=1, number_of_tests=10):\n",
    "    sim_test(\"COIN FLIP SIMULATOR\")\n",
    "    print(f\"coin_flip_simulator({number_of_coins},{number_of_tests}):\")\n",
    "    sim = CoinFlipSimulator()\n",
    "    results = {}\n",
    "    for i in range(0, number_of_coins):\n",
    "        c = Coin(\"HEADS\",f\"coin-{i}\")\n",
    "        for state, state_object in c.get_states().items():\n",
    "            sim.add_event(state_object[SimObject.STATE], state_object[SimObject.PROBABILITY])\n",
    "        results[c.NAME] = sim.simulate(number_of_tests)\n",
    "    logging.debug(f\"Results: {results}\")\n",
    "    return results\n",
    "\n",
    "for coin, result in coin_flip_simulator(number_of_coins=3,number_of_tests=1000).items():\n",
    "    print(f\"coin: {coin}\")\n",
    "    for k,v in result.items():\n",
    "        print(f\"\\t{k}:{v}\")\n",
    "\n"
   ]
  },
  {
   "cell_type": "code",
   "execution_count": 82,
   "metadata": {
    "notebookRunGroups": {
     "groupValue": "2"
    }
   },
   "outputs": [
    {
     "name": "stdout",
     "output_type": "stream",
     "text": [
      "simulate_object_probability(1,100):\n",
      "object-0 ran 100 of trials over 2 states\n",
      "\tstate-0-50.0%\t43.0%\n",
      "\tstate-1-50.0%\t57.0%\n",
      "\n",
      "simulate_object_probability(1,100000):\n",
      "object-0 ran 100,000 of trials over 2 states\n",
      "\tstate-0-50.0%\t50.047%\n",
      "\tstate-1-50.0%\t49.953%\n",
      "\n",
      "simulate_object_probability(1,1000000):\n",
      "object-0 ran 1,000,000 of trials over 8 states\n",
      "\tstate-0-10.0%\t9.9978%\n",
      "\tstate-1-20.0%\t19.9827%\n",
      "\tstate-2-15.0%\t15.0344%\n",
      "\tstate-3-12.0%\t11.9367%\n",
      "\tstate-4-21.0%\t21.0296%\n",
      "\tstate-5-12.0%\t11.9994%\n",
      "\tstate-6-8.0%\t8.0002%\n",
      "\tstate-7-2.0%\t2.0192%\n",
      "\n"
     ]
    }
   ],
   "source": [
    "from ProbabilisticSimulator import ProbabilisticSimulator\n",
    "\n",
    "def simulate_object_probability(\n",
    "        probability_list=[\n",
    "            {\"probability\":.50},\n",
    "            {\"probability\":.50}]\n",
    "        ,simulations=10**2\n",
    "        ,test_cycles=1):\n",
    "    print(f\"simulate_object_probability({test_cycles},{simulations}):\")\n",
    "    sim = ProbabilisticSimulator()\n",
    "    for i in range(0, test_cycles):\n",
    "        upper_limit = 1.0\n",
    "        cumulative_probability = 0.0\n",
    "        for ndx, state_object in enumerate(probability_list):\n",
    "            cumulative_probability += state_object[\"probability\"]\n",
    "            # print(f\"+{state_object[\"probability\"]}={cumulative_probability}\")\n",
    "            if cumulative_probability > upper_limit:\n",
    "                raise ValueError(f\"list of probabilities does not total {upper_limit}: +{state_object[\"probability\"]} gives {cumulative_probability}\")\n",
    "            sim.add_event(f\"state-{ndx}-{100*state_object[\"probability\"]}%\", state_object[\"probability\"])\n",
    "        if cumulative_probability < upper_limit:\n",
    "            raise ValueError(f\"Upper limit not reached {upper_limit}: @ {cumulative_probability}\")\n",
    "        results = {f\"object-{i}\":sim.simulate(simulations)}\n",
    "\n",
    "        for item,result in results.items():\n",
    "            print(f\"{item} ran {simulations:,} of trials over {len(probability_list):,} states\")\n",
    "            for k,v in result.items():\n",
    "                v = f\"{round(100*(v/simulations), len(str(simulations))-1)}%\"\n",
    "                print(f\"\\t{k}\\t{v}\")\n",
    "    print()\n",
    "# END FUNCTION\n",
    "\n",
    "simulate_object_probability()\n",
    "simulate_object_probability(simulations=10**5)\n",
    "l = [\n",
    "            {\"probability\":.10},\n",
    "            {\"probability\":.20},\n",
    "            {\"probability\":.15},\n",
    "            {\"probability\":.12},\n",
    "            {\"probability\":.21},\n",
    "            {\"probability\":.12},\n",
    "            {\"probability\":.08},\n",
    "            {\"probability\":.02},\n",
    "            ]\n",
    "simulate_object_probability(l,simulations=10**6,test_cycles=1)\n"
   ]
  }
 ],
 "metadata": {
  "kernelspec": {
   "display_name": "Python 3",
   "language": "python",
   "name": "python3"
  },
  "language_info": {
   "codemirror_mode": {
    "name": "ipython",
    "version": 3
   },
   "file_extension": ".py",
   "mimetype": "text/x-python",
   "name": "python",
   "nbconvert_exporter": "python",
   "pygments_lexer": "ipython3",
   "version": "3.12.8"
  }
 },
 "nbformat": 4,
 "nbformat_minor": 2
}
