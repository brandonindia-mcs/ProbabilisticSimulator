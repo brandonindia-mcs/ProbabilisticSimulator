{
 "cells": [
  {
   "cell_type": "code",
   "execution_count": 10,
   "metadata": {},
   "outputs": [
    {
     "name": "stdout",
     "output_type": "stream",
     "text": [
      "state: coin-0-HEADS result: 6\n",
      "state: coin-0-TAILS result: 4\n",
      "state: coin-1-HEADS result: 6\n",
      "state: coin-1-TAILS result: 4\n",
      "state: coin-2-HEADS result: 2\n",
      "state: coin-2-TAILS result: 8\n"
     ]
    }
   ],
   "source": [
    "from CoinSimulator import CoinSimulator\n",
    "import sys\n",
    "import logging\n",
    "logging.basicConfig(filename=f\"{__name__}.log\", level=logging.ERROR, format='%(asctime)s - %(levelname)s - %(message)s')\n",
    "def sim_test(test_id=\"TEST\"):\n",
    "    logging.info(f\"\\n### coins ### {test_id} ######################\")\n",
    "def is_positive_int(value):\n",
    "    try:\n",
    "        num = int(value)\n",
    "        return num > 0\n",
    "    except ValueError:\n",
    "        return False\n",
    "\n",
    "def coin_simulator(number_of_bits=1, number_of_tests=10):\n",
    "    sim_test(\"COIN SIMULATOR\")\n",
    "    results = CoinSimulator(number_of_bits).simulate(number_of_tests)\n",
    "    logging.debug(f\"Results: {results}\")\n",
    "    for state, result in results.items():\n",
    "        print(f\"state: {state} result: {result}\")\n",
    "\n",
    "if __name__ == \"__main__\":\n",
    "    sim_test(\"ARGUMENTS\")\n",
    "    logging.info(f\"Number of arguments: {len(sys.argv)}\")\n",
    "    logging.info(f\"Argument List: {sys.argv}\")\n",
    "\n",
    "    try:\n",
    "        logging.debug(\"sys.argv[1]:\"+sys.argv[1])\n",
    "        logging.debug(\"sys.argv[2]:\"+sys.argv[2])\n",
    "        NUMBER_OF_OBJECTS = int(sys.argv[1])\n",
    "        NUMBER_OF_SIMULATIONS = int(sys.argv[2])\n",
    "    except:\n",
    "        NUMBER_OF_OBJECTS = 3\n",
    "        NUMBER_OF_SIMULATIONS = 10\n",
    "    logging.info(f\"NUMBER_OF_OBJECTS: {NUMBER_OF_OBJECTS}\")\n",
    "    logging.info(f\"NUMBER_OF_SIMULATIONS: {NUMBER_OF_SIMULATIONS}\")\n",
    "\n",
    "    coin_simulator(NUMBER_OF_OBJECTS,NUMBER_OF_SIMULATIONS)\n",
    "\n"
   ]
  }
 ],
 "metadata": {
  "kernelspec": {
   "display_name": "Python 3",
   "language": "python",
   "name": "python3"
  },
  "language_info": {
   "codemirror_mode": {
    "name": "ipython",
    "version": 3
   },
   "file_extension": ".py",
   "mimetype": "text/x-python",
   "name": "python",
   "nbconvert_exporter": "python",
   "pygments_lexer": "ipython3",
   "version": "3.10.12"
  }
 },
 "nbformat": 4,
 "nbformat_minor": 2
}
